{
 "cells": [
  {
   "cell_type": "code",
   "execution_count": 4,
   "id": "8b4dd647",
   "metadata": {},
   "outputs": [],
   "source": [
    "# Dependencies and Setup\n",
    "import matplotlib.pyplot as plt\n",
    "import pandas as pd\n",
    "import numpy as np\n",
    "import requests\n",
    "import time\n",
    "import sqlalchemy\n",
    "from sqlalchemy.ext.automap import automap_base\n",
    "from sqlalchemy.orm import Session\n",
    "from sqlalchemy import create_engine, func\n",
    "import sqlite3 as sql\n",
    "import numpy as np\n",
    "import pandas.io.sql as psql\n",
    "import psycopg2\n",
    "import pyodbc\n",
    "\n",
    "from bokeh.io import curdoc\n",
    "from bokeh.layouts import column, row, layout\n",
    "from bokeh.models import ColumnDataSource, Div, Select, Slider, TextInput, Spinner\n",
    "from bokeh.plotting import figure, show\n",
    "from scipy.stats import linregress\n",
    "from pathlib import Path\n",
    "from os.path import dirname, join"
   ]
  },
  {
   "cell_type": "code",
   "execution_count": null,
   "id": "bf1ecb5c",
   "metadata": {},
   "outputs": [],
   "source": [
    "Drug_clean_csv = Path(\"DataResources/Drug_clean.csv\")"
   ]
  },
  {
   "cell_type": "code",
   "execution_count": null,
   "id": "b0ae622c",
   "metadata": {},
   "outputs": [],
   "source": [
    "drug_data = pd.read_csv(Drug_clean_csv)\n",
    "\n",
    "drug_data.head(10)"
   ]
  },
  {
   "cell_type": "code",
   "execution_count": null,
   "id": "75a50540",
   "metadata": {},
   "outputs": [],
   "source": [
    "# pip install bokeh\n"
   ]
  },
  {
   "cell_type": "code",
   "execution_count": null,
   "id": "bf53a7a4",
   "metadata": {},
   "outputs": [],
   "source": [
    "# pip install numpy\n"
   ]
  },
  {
   "cell_type": "code",
   "execution_count": null,
   "id": "51679146",
   "metadata": {},
   "outputs": [],
   "source": [
    "x = np.arange(0,10,1)\n",
    "y1 = x ** 2\n",
    "y2 = x ** 3\n",
    "y3 = x ** 4\n",
    "\n",
    "p1 = figure(title = \"Simple Chart\", x_axis_label= \"x\", y_axis_label = 'y')\n",
    "p1.line(x, y1, legend_label = 'Quadratic Function', line_width = 2, color = 'red')\n",
    "p1.line(x, y2, legend_label = 'Cubic Function', line_width = 2, color = 'blue')\n",
    "p1.line(x, y3, legend_label = 'Quartic Function', line_width = 2, color = 'green')\n",
    "\n",
    "# x = np.random.random(50) * 10\n",
    "# y = np.random.random(50) * 200 \n",
    "\n",
    "# p2 = figure(title= 'Simple Scatter', x_axis_label = 'x', y_axis_label = 'y')\n",
    "# p2.circle(x,y, legend_label = 'Random Points', color = 'orange', size = 12)\n",
    "# show(p)\n",
    "\n",
    "\n",
    "x = np.arange(0,5,1)\n",
    "y = np.random.random(5) * 100\n",
    "\n",
    "p3 = figure(title = 'Simple Bar', x_axis_label = 'x', y_axis_label = 'y')\n",
    "p3.vbar(x=x, top=y, width = .5, bottom = 0, color = 'red')\n",
    "\n",
    "\n",
    "curdoc().theme = 'dark_minimal'\n",
    "\n",
    "x = np.random.random(50) * 10\n",
    "y = np.random.random(50) * 200 \n",
    "\n",
    "p2 = figure(title= 'Simple Scatter', x_axis_label = 'x', y_axis_label = 'y')\n",
    "\n",
    "circle = p2.circle(x,y, legend_label = 'Random Points', color = 'orange', size = 12)\n",
    "\n",
    "glyph = circle.glyph\n",
    "glyph.size = 10\n",
    "glyph.fill_color = 'blue'\n",
    "\n",
    "show(row(p1,p2,p3, sizing_mode = 'scale_width'))\n",
    "\n",
    "# source = ColumnDataSource(data=drug_data)\n",
    "\n",
    "# p = figure(x_range=drug_data['Drug'], title=\"Drug Effectiveness\")\n",
    "# p.circle(x=\"Drug\", y='Effective', source=source, size=10)\n",
    "\n",
    "# # Add axis labels\n",
    "# p.xaxis.axis_label = \"Drug\"\n",
    "# p.yaxis.axis_label = \"Effectiveness\"\n",
    "\n",
    "# show(p)\n",
    "\n",
    "x = np.random.random(50)\n",
    "y = np.random.random(50)\n",
    "\n",
    "p = figure()\n",
    "points = p.circle(x,y)\n",
    "\n",
    "div = Div(text=\"<p>Select Size</p>\")\n",
    "spinner = Spinner(title = \"Circle Size\", low = 0, high = 20, step = 1, value = points.glyph.size, width = 200)\n",
    "spinner.js_link(\"value\", points.glyph, \"size\")\n",
    "\n",
    "textinput = TextInput(value = points.glyph.fill_color, width = 200)\n",
    "textinput.js_link(\"value\", points.glyph, \"fill_color\")\n",
    "\n",
    "layout = layout([[div, spinner],[textinput], [p]])\n",
    "\n",
    "show(layout)\n",
    "\n",
    "# pip install psycopg2\n",
    "# !conda install pyodbc\n",
    "\n",
    "\n",
    "# Create SQLAlchemy engine\n",
    "engine = create_engine('sqlite:///:memory:')\n",
    "\n",
    "# Execute SQL query and load results into DataFrame\n",
    "df = pd.read_sql(\"SELECT * FROM my_table\", engine)\n"
   ]
  },
  {
   "cell_type": "code",
   "execution_count": null,
   "id": "03fd733b",
   "metadata": {},
   "outputs": [],
   "source": []
  }
 ],
 "metadata": {
  "kernelspec": {
   "display_name": "Python 3 (ipykernel)",
   "language": "python",
   "name": "python3"
  },
  "language_info": {
   "codemirror_mode": {
    "name": "ipython",
    "version": 3
   },
   "file_extension": ".py",
   "mimetype": "text/x-python",
   "name": "python",
   "nbconvert_exporter": "python",
   "pygments_lexer": "ipython3",
   "version": "3.10.13"
  }
 },
 "nbformat": 4,
 "nbformat_minor": 5
}
